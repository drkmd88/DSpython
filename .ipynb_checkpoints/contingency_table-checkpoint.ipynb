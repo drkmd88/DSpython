{
 "cells": [
  {
   "cell_type": "markdown",
   "metadata": {},
   "source": [
    "This notebook demonstrates contingency table analysis. It's based on https://www.statsmodels.org/stable/contingency_tables.html and https://www.analyticsvidhya.com/blog/2016/01/12-pandas-techniques-python-data-manipulation/"
   ]
  },
  {
   "cell_type": "code",
   "execution_count": 136,
   "metadata": {},
   "outputs": [
    {
     "data": {
      "text/html": [
       "<div>\n",
       "<style scoped>\n",
       "    .dataframe tbody tr th:only-of-type {\n",
       "        vertical-align: middle;\n",
       "    }\n",
       "\n",
       "    .dataframe tbody tr th {\n",
       "        vertical-align: top;\n",
       "    }\n",
       "\n",
       "    .dataframe thead th {\n",
       "        text-align: right;\n",
       "    }\n",
       "</style>\n",
       "<table border=\"1\" class=\"dataframe\">\n",
       "  <thead>\n",
       "    <tr style=\"text-align: right;\">\n",
       "      <th></th>\n",
       "      <th>users</th>\n",
       "      <th>apps</th>\n",
       "    </tr>\n",
       "  </thead>\n",
       "  <tbody>\n",
       "    <tr>\n",
       "      <th>0</th>\n",
       "      <td>001</td>\n",
       "      <td>app01</td>\n",
       "    </tr>\n",
       "    <tr>\n",
       "      <th>1</th>\n",
       "      <td>001</td>\n",
       "      <td>app01</td>\n",
       "    </tr>\n",
       "    <tr>\n",
       "      <th>2</th>\n",
       "      <td>001</td>\n",
       "      <td>app10</td>\n",
       "    </tr>\n",
       "    <tr>\n",
       "      <th>3</th>\n",
       "      <td>001</td>\n",
       "      <td>app05</td>\n",
       "    </tr>\n",
       "    <tr>\n",
       "      <th>4</th>\n",
       "      <td>001</td>\n",
       "      <td>app03</td>\n",
       "    </tr>\n",
       "    <tr>\n",
       "      <th>5</th>\n",
       "      <td>002</td>\n",
       "      <td>app06</td>\n",
       "    </tr>\n",
       "  </tbody>\n",
       "</table>\n",
       "</div>"
      ],
      "text/plain": [
       "  users   apps\n",
       "0   001  app01\n",
       "1   001  app01\n",
       "2   001  app10\n",
       "3   001  app05\n",
       "4   001  app03\n",
       "5   002  app06"
      ]
     },
     "execution_count": 136,
     "metadata": {},
     "output_type": "execute_result"
    }
   ],
   "source": [
    "# Experiment\n",
    "users = np.array(['001','001','001','001','001','002'])\n",
    "apps = np.array(['app01','app01','app10','app05','app03','app06'])\n",
    "exp = pd.DataFrame(np.vstack([users,apps]).T,columns=['users','apps'])\n",
    "exp"
   ]
  },
  {
   "cell_type": "code",
   "execution_count": 142,
   "metadata": {},
   "outputs": [
    {
     "data": {
      "text/html": [
       "<div>\n",
       "<style scoped>\n",
       "    .dataframe tbody tr th:only-of-type {\n",
       "        vertical-align: middle;\n",
       "    }\n",
       "\n",
       "    .dataframe tbody tr th {\n",
       "        vertical-align: top;\n",
       "    }\n",
       "\n",
       "    .dataframe thead th {\n",
       "        text-align: right;\n",
       "    }\n",
       "</style>\n",
       "<table border=\"1\" class=\"dataframe\">\n",
       "  <thead>\n",
       "    <tr style=\"text-align: right;\">\n",
       "      <th>apps</th>\n",
       "      <th>app01</th>\n",
       "      <th>app03</th>\n",
       "      <th>app05</th>\n",
       "      <th>app06</th>\n",
       "      <th>app10</th>\n",
       "    </tr>\n",
       "    <tr>\n",
       "      <th>users</th>\n",
       "      <th></th>\n",
       "      <th></th>\n",
       "      <th></th>\n",
       "      <th></th>\n",
       "      <th></th>\n",
       "    </tr>\n",
       "  </thead>\n",
       "  <tbody>\n",
       "    <tr>\n",
       "      <th>001</th>\n",
       "      <td>2</td>\n",
       "      <td>1</td>\n",
       "      <td>1</td>\n",
       "      <td>0</td>\n",
       "      <td>1</td>\n",
       "    </tr>\n",
       "    <tr>\n",
       "      <th>002</th>\n",
       "      <td>0</td>\n",
       "      <td>0</td>\n",
       "      <td>0</td>\n",
       "      <td>1</td>\n",
       "      <td>0</td>\n",
       "    </tr>\n",
       "  </tbody>\n",
       "</table>\n",
       "</div>"
      ],
      "text/plain": [
       "apps   app01  app03  app05  app06  app10\n",
       "users                                   \n",
       "001        2      1      1      0      1\n",
       "002        0      0      0      1      0"
      ]
     },
     "execution_count": 142,
     "metadata": {},
     "output_type": "execute_result"
    }
   ],
   "source": [
    "# Simple frequency count, similar to R table()\n",
    "\n",
    "# np.bincount() sort the list values and get bin frequency\n",
    "pd.crosstab(exp['users'],exp['apps'])"
   ]
  },
  {
   "cell_type": "markdown",
   "metadata": {},
   "source": [
    "## Flatten column lists into multiple columns\n",
    "Refer to https://stackoverflow.com/questions/44820907/dataframe-pandas-flatten-column-of-lists-to-multiple-columns\n",
    "\n",
    "### Experiment"
   ]
  },
  {
   "cell_type": "code",
   "execution_count": 118,
   "metadata": {},
   "outputs": [
    {
     "data": {
      "text/html": [
       "<div>\n",
       "<style scoped>\n",
       "    .dataframe tbody tr th:only-of-type {\n",
       "        vertical-align: middle;\n",
       "    }\n",
       "\n",
       "    .dataframe tbody tr th {\n",
       "        vertical-align: top;\n",
       "    }\n",
       "\n",
       "    .dataframe thead th {\n",
       "        text-align: right;\n",
       "    }\n",
       "</style>\n",
       "<table border=\"1\" class=\"dataframe\">\n",
       "  <thead>\n",
       "    <tr style=\"text-align: right;\">\n",
       "      <th></th>\n",
       "      <th>users</th>\n",
       "      <th>usercnt</th>\n",
       "    </tr>\n",
       "  </thead>\n",
       "  <tbody>\n",
       "    <tr>\n",
       "      <th>0</th>\n",
       "      <td>001</td>\n",
       "      <td>{'app01': 2, 'app10': 1, 'app05': 1, 'app03': 1}</td>\n",
       "    </tr>\n",
       "    <tr>\n",
       "      <th>1</th>\n",
       "      <td>002</td>\n",
       "      <td>{'app06': 1}</td>\n",
       "    </tr>\n",
       "  </tbody>\n",
       "</table>\n",
       "</div>"
      ],
      "text/plain": [
       "  users                                           usercnt\n",
       "0   001  {'app01': 2, 'app10': 1, 'app05': 1, 'app03': 1}\n",
       "1   002                                      {'app06': 1}"
      ]
     },
     "execution_count": 118,
     "metadata": {},
     "output_type": "execute_result"
    }
   ],
   "source": [
    "from collections import Counter\n",
    "def agg_behaviors(data):\n",
    "    return Counter(data.apps.values)\n",
    "\n",
    "exp_grp = exp.groupby('users').apply(agg_behaviors).reset_index()\n",
    "exp_grp.columns=['users','usercnt']\n",
    "exp_grp"
   ]
  },
  {
   "cell_type": "code",
   "execution_count": 97,
   "metadata": {},
   "outputs": [
    {
     "name": "stdout",
     "output_type": "stream",
     "text": [
      "  users                                  app\n",
      "0   001  [app01, app01, app10, app05, app03]\n",
      "1   002                              [app06]\n"
     ]
    },
    {
     "data": {
      "text/html": [
       "<div>\n",
       "<style scoped>\n",
       "    .dataframe tbody tr th:only-of-type {\n",
       "        vertical-align: middle;\n",
       "    }\n",
       "\n",
       "    .dataframe tbody tr th {\n",
       "        vertical-align: top;\n",
       "    }\n",
       "\n",
       "    .dataframe thead th {\n",
       "        text-align: right;\n",
       "    }\n",
       "</style>\n",
       "<table border=\"1\" class=\"dataframe\">\n",
       "  <thead>\n",
       "    <tr style=\"text-align: right;\">\n",
       "      <th></th>\n",
       "      <th>users</th>\n",
       "      <th>app0</th>\n",
       "      <th>app1</th>\n",
       "      <th>app2</th>\n",
       "      <th>app3</th>\n",
       "      <th>app4</th>\n",
       "    </tr>\n",
       "  </thead>\n",
       "  <tbody>\n",
       "    <tr>\n",
       "      <th>0</th>\n",
       "      <td>001</td>\n",
       "      <td>app01</td>\n",
       "      <td>app01</td>\n",
       "      <td>app10</td>\n",
       "      <td>app05</td>\n",
       "      <td>app03</td>\n",
       "    </tr>\n",
       "    <tr>\n",
       "      <th>1</th>\n",
       "      <td>002</td>\n",
       "      <td>app06</td>\n",
       "      <td>None</td>\n",
       "      <td>None</td>\n",
       "      <td>None</td>\n",
       "      <td>None</td>\n",
       "    </tr>\n",
       "  </tbody>\n",
       "</table>\n",
       "</div>"
      ],
      "text/plain": [
       "  users   app0   app1   app2   app3   app4\n",
       "0   001  app01  app01  app10  app05  app03\n",
       "1   002  app06   None   None   None   None"
      ]
     },
     "execution_count": 97,
     "metadata": {},
     "output_type": "execute_result"
    }
   ],
   "source": [
    "exp_list = exp.groupby('users').apply(lambda data:data.apps.values).reset_index()\n",
    "exp_list.columns=['users','app']\n",
    "print (exp_list)\n",
    "\n",
    "cols = ['app']\n",
    "flatten_df = pd.concat([pd.DataFrame(exp_list[x].values.tolist()).add_prefix(x) for x in cols],axis=1)\n",
    "pd.concat([exp_list.drop(cols,axis=1),flatten_df],axis=1)\n"
   ]
  },
  {
   "cell_type": "markdown",
   "metadata": {},
   "source": [
    "The above method does flatten out list(lists) of columns, but is not what we want. Try the following:"
   ]
  },
  {
   "cell_type": "code",
   "execution_count": 109,
   "metadata": {},
   "outputs": [
    {
     "data": {
      "text/html": [
       "<div>\n",
       "<style scoped>\n",
       "    .dataframe tbody tr th:only-of-type {\n",
       "        vertical-align: middle;\n",
       "    }\n",
       "\n",
       "    .dataframe tbody tr th {\n",
       "        vertical-align: top;\n",
       "    }\n",
       "\n",
       "    .dataframe thead th {\n",
       "        text-align: right;\n",
       "    }\n",
       "</style>\n",
       "<table border=\"1\" class=\"dataframe\">\n",
       "  <thead>\n",
       "    <tr style=\"text-align: right;\">\n",
       "      <th></th>\n",
       "      <th>users</th>\n",
       "      <th>app</th>\n",
       "      <th>app01</th>\n",
       "      <th>app03</th>\n",
       "      <th>app05</th>\n",
       "      <th>app06</th>\n",
       "      <th>app10</th>\n",
       "    </tr>\n",
       "  </thead>\n",
       "  <tbody>\n",
       "    <tr>\n",
       "      <th>0</th>\n",
       "      <td>001</td>\n",
       "      <td>[app01, app01, app10, app05, app03]</td>\n",
       "      <td>2</td>\n",
       "      <td>1</td>\n",
       "      <td>1</td>\n",
       "      <td>0</td>\n",
       "      <td>1</td>\n",
       "    </tr>\n",
       "    <tr>\n",
       "      <th>1</th>\n",
       "      <td>002</td>\n",
       "      <td>[app06]</td>\n",
       "      <td>0</td>\n",
       "      <td>0</td>\n",
       "      <td>0</td>\n",
       "      <td>1</td>\n",
       "      <td>0</td>\n",
       "    </tr>\n",
       "  </tbody>\n",
       "</table>\n",
       "</div>"
      ],
      "text/plain": [
       "  users                                  app  app01  app03  app05  app06  \\\n",
       "0   001  [app01, app01, app10, app05, app03]      2      1      1      0   \n",
       "1   002                              [app06]      0      0      0      1   \n",
       "\n",
       "   app10  \n",
       "0      1  \n",
       "1      0  "
      ]
     },
     "execution_count": 109,
     "metadata": {},
     "output_type": "execute_result"
    }
   ],
   "source": [
    "exp_list = exp.groupby('users').apply(lambda data:data.apps.values).reset_index()\n",
    "exp_list.columns=['users','app']\n",
    "\n",
    "# Construct columns of all possible values first\n",
    "# use np.sort() for np.ndarray, use df.sort_values(by='column',axis=1,ascending=True)\n",
    "add_colnames = np.sort(exp.apps.unique())\n",
    "\n",
    "# Generate columns based on name\n",
    "for c in add_colnames:\n",
    "    exp_list[c] = np.array([list(exp_list.iloc[j,1]).count(c) for j in range(exp_list.shape[0])])\n",
    "\n",
    "exp_list"
   ]
  },
  {
   "cell_type": "markdown",
   "metadata": {},
   "source": [
    "### Solution"
   ]
  },
  {
   "cell_type": "code",
   "execution_count": 127,
   "metadata": {},
   "outputs": [
    {
     "data": {
      "text/html": [
       "<div>\n",
       "<style scoped>\n",
       "    .dataframe tbody tr th:only-of-type {\n",
       "        vertical-align: middle;\n",
       "    }\n",
       "\n",
       "    .dataframe tbody tr th {\n",
       "        vertical-align: top;\n",
       "    }\n",
       "\n",
       "    .dataframe thead th {\n",
       "        text-align: right;\n",
       "    }\n",
       "</style>\n",
       "<table border=\"1\" class=\"dataframe\">\n",
       "  <thead>\n",
       "    <tr style=\"text-align: right;\">\n",
       "      <th></th>\n",
       "      <th>users</th>\n",
       "      <th>app01</th>\n",
       "      <th>app03</th>\n",
       "      <th>app05</th>\n",
       "      <th>app06</th>\n",
       "      <th>app10</th>\n",
       "    </tr>\n",
       "  </thead>\n",
       "  <tbody>\n",
       "    <tr>\n",
       "      <th>0</th>\n",
       "      <td>001</td>\n",
       "      <td>2</td>\n",
       "      <td>1</td>\n",
       "      <td>1</td>\n",
       "      <td>0</td>\n",
       "      <td>1</td>\n",
       "    </tr>\n",
       "    <tr>\n",
       "      <th>1</th>\n",
       "      <td>002</td>\n",
       "      <td>0</td>\n",
       "      <td>0</td>\n",
       "      <td>0</td>\n",
       "      <td>1</td>\n",
       "      <td>0</td>\n",
       "    </tr>\n",
       "  </tbody>\n",
       "</table>\n",
       "</div>"
      ],
      "text/plain": [
       "  users  app01  app03  app05  app06  app10\n",
       "0   001      2      1      1      0      1\n",
       "1   002      0      0      0      1      0"
      ]
     },
     "execution_count": 127,
     "metadata": {},
     "output_type": "execute_result"
    }
   ],
   "source": [
    "exp_user_cnt = exp.groupby('users').apply(agg_behaviors).reset_index()\n",
    "exp_user_cnt.columns = ['users','usercnt']\n",
    "app_values = np.sort(exp.apps.unique())\n",
    "\n",
    "for c in app_values:\n",
    "    exp_user_cnt[c] = np.array([exp_user_cnt.iloc[j,1][c] for j in range(exp_user_cnt.shape[0])])\n",
    "exp_user_cnt = exp_user_cnt.drop(['usercnt'],axis=1);exp_user_cnt"
   ]
  },
  {
   "cell_type": "code",
   "execution_count": 128,
   "metadata": {},
   "outputs": [
    {
     "data": {
      "text/html": [
       "<div>\n",
       "<style scoped>\n",
       "    .dataframe tbody tr th:only-of-type {\n",
       "        vertical-align: middle;\n",
       "    }\n",
       "\n",
       "    .dataframe tbody tr th {\n",
       "        vertical-align: top;\n",
       "    }\n",
       "\n",
       "    .dataframe thead th {\n",
       "        text-align: right;\n",
       "    }\n",
       "</style>\n",
       "<table border=\"1\" class=\"dataframe\">\n",
       "  <thead>\n",
       "    <tr style=\"text-align: right;\">\n",
       "      <th></th>\n",
       "      <th>ID</th>\n",
       "      <th>Treatment</th>\n",
       "      <th>Sex</th>\n",
       "      <th>Age</th>\n",
       "      <th>Improved</th>\n",
       "    </tr>\n",
       "  </thead>\n",
       "  <tbody>\n",
       "    <tr>\n",
       "      <th>0</th>\n",
       "      <td>57</td>\n",
       "      <td>Treated</td>\n",
       "      <td>Male</td>\n",
       "      <td>27</td>\n",
       "      <td>Some</td>\n",
       "    </tr>\n",
       "    <tr>\n",
       "      <th>1</th>\n",
       "      <td>46</td>\n",
       "      <td>Treated</td>\n",
       "      <td>Male</td>\n",
       "      <td>29</td>\n",
       "      <td>None</td>\n",
       "    </tr>\n",
       "    <tr>\n",
       "      <th>2</th>\n",
       "      <td>77</td>\n",
       "      <td>Treated</td>\n",
       "      <td>Male</td>\n",
       "      <td>30</td>\n",
       "      <td>None</td>\n",
       "    </tr>\n",
       "    <tr>\n",
       "      <th>3</th>\n",
       "      <td>17</td>\n",
       "      <td>Treated</td>\n",
       "      <td>Male</td>\n",
       "      <td>32</td>\n",
       "      <td>Marked</td>\n",
       "    </tr>\n",
       "    <tr>\n",
       "      <th>4</th>\n",
       "      <td>36</td>\n",
       "      <td>Treated</td>\n",
       "      <td>Male</td>\n",
       "      <td>46</td>\n",
       "      <td>Marked</td>\n",
       "    </tr>\n",
       "  </tbody>\n",
       "</table>\n",
       "</div>"
      ],
      "text/plain": [
       "   ID Treatment   Sex  Age Improved\n",
       "0  57   Treated  Male   27     Some\n",
       "1  46   Treated  Male   29     None\n",
       "2  77   Treated  Male   30     None\n",
       "3  17   Treated  Male   32   Marked\n",
       "4  36   Treated  Male   46   Marked"
      ]
     },
     "execution_count": 128,
     "metadata": {},
     "output_type": "execute_result"
    }
   ],
   "source": [
    "import numpy as np\n",
    "import pandas as pd\n",
    "import statsmodels.api as sm\n",
    "\n",
    "# get R dataset from package\n",
    "df = sm.datasets.get_rdataset(\"Arthritis\",\"vcd\").data\n",
    "df.head()"
   ]
  },
  {
   "cell_type": "markdown",
   "metadata": {},
   "source": [
    "# Pivot table"
   ]
  },
  {
   "cell_type": "code",
   "execution_count": 131,
   "metadata": {},
   "outputs": [
    {
     "data": {
      "text/plain": [
       "Treatment  Sex     Improved\n",
       "Placebo    Female  Marked      56.666667\n",
       "                   None        47.894737\n",
       "                   Some        57.428571\n",
       "           Male    Marked      63.000000\n",
       "                   None        52.900000\n",
       "Treated    Female  Marked      58.000000\n",
       "                   None        45.166667\n",
       "                   Some        61.200000\n",
       "           Male    Marked      53.000000\n",
       "                   None        53.857143\n",
       "                   Some        45.500000\n",
       "Name: Age, dtype: float64"
      ]
     },
     "execution_count": 131,
     "metadata": {},
     "output_type": "execute_result"
    }
   ],
   "source": [
    "df.groupby(['Treatment','Sex','Improved']).mean()['Age']\n",
    "# df.groupby(['Treatment','Sex','Improved']).mean().reset_index()"
   ]
  },
  {
   "cell_type": "markdown",
   "metadata": {},
   "source": [
    "## Multi-indexing of pivot table"
   ]
  },
  {
   "cell_type": "code",
   "execution_count": 132,
   "metadata": {},
   "outputs": [],
   "source": [
    "df_pivot_age = df.pivot_table(values=['Age'],index=['Treatment','Sex','Improved'],aggfunc=[np.mean,np.sum])\n",
    "# df_pivot_age['Age%']= df_pivot_age['sum']['Age']/df_pivot_age['sum']['Age'].cumsum()\n",
    "# df_pivot_age.loc['Placebo'].loc['Male']"
   ]
  },
  {
   "cell_type": "code",
   "execution_count": 45,
   "metadata": {
    "collapsed": true
   },
   "outputs": [],
   "source": [
    "# for i,row in df_pivot_age.loc[~df_pivot_age['Age%'].isnull(),:].iterrows():\n",
    "#     print (i,row)"
   ]
  },
  {
   "cell_type": "markdown",
   "metadata": {},
   "source": [
    "# Contingency table construction\n",
    "There are mainly two ways to form a contingency table.\n",
    "\n",
    "## Method1: generate cross table first"
   ]
  },
  {
   "cell_type": "code",
   "execution_count": 48,
   "metadata": {},
   "outputs": [
    {
     "name": "stdout",
     "output_type": "stream",
     "text": [
      "Improved   None  Some  Marked\n",
      "Treatment                    \n",
      "Placebo      29     7       7\n",
      "Treated      13     7      21\n",
      "Improved       None  Some    Marked\n",
      "Treatment                          \n",
      "Placebo    2.230769   1.0  0.333333\n",
      "Treated    1.000000   1.0  1.000000\n",
      "A 2x3 contingency table with counts:\n",
      "[[29.  7.  7.]\n",
      " [13.  7. 21.]]\n"
     ]
    }
   ],
   "source": [
    "tab = pd.crosstab(df['Treatment'],df['Improved'])\n",
    "tab = tab.loc[:,[\"None\",\"Some\",\"Marked\"]]\n",
    "\n",
    "def percConvert(ser):\n",
    "    return ser/float(ser[-1])\n",
    "\n",
    "tab_convert = tab.apply(percConvert)\n",
    "print (tab)\n",
    "print (tab_convert)\n",
    "\n",
    "table = sm.stats.Table(tab)\n",
    "print (table)"
   ]
  },
  {
   "cell_type": "markdown",
   "metadata": {},
   "source": [
    "## Method2: directly build from dataframe"
   ]
  },
  {
   "cell_type": "code",
   "execution_count": 3,
   "metadata": {
    "collapsed": true
   },
   "outputs": [],
   "source": [
    "table = sm.stats.Table.from_data(df[['Treatment','Improved']])"
   ]
  },
  {
   "cell_type": "markdown",
   "metadata": {},
   "source": [
    "# Independence Test"
   ]
  },
  {
   "cell_type": "code",
   "execution_count": 4,
   "metadata": {},
   "outputs": [
    {
     "name": "stdout",
     "output_type": "stream",
     "text": [
      "Improved   Marked  None  Some\n",
      "Treatment                    \n",
      "Placebo         7    29     7\n",
      "Treated        21    13     7\n"
     ]
    }
   ],
   "source": [
    "print (table.table_orig) # equivalent to tab"
   ]
  },
  {
   "cell_type": "code",
   "execution_count": 23,
   "metadata": {},
   "outputs": [
    {
     "name": "stdout",
     "output_type": "stream",
     "text": [
      "Improved      Marked  None      Some\n",
      "Treatment                           \n",
      "Placebo    14.333333  21.5  7.166667\n",
      "Treated    13.666667  20.5  6.833333\n"
     ]
    }
   ],
   "source": [
    "print (table.fittedvalues) # expected count"
   ]
  },
  {
   "cell_type": "code",
   "execution_count": 24,
   "metadata": {},
   "outputs": [
    {
     "name": "stdout",
     "output_type": "stream",
     "text": [
      "Improved     Marked      None      Some\n",
      "Treatment                              \n",
      "Placebo   -1.936992  1.617492 -0.062257\n",
      "Treated    1.983673 -1.656473  0.063758\n"
     ]
    }
   ],
   "source": [
    "print (table.resid_pearson)"
   ]
  },
  {
   "cell_type": "code",
   "execution_count": 28,
   "metadata": {},
   "outputs": [
    {
     "name": "stdout",
     "output_type": "stream",
     "text": [
      "0.0014626434089526352\n",
      "Improved     Marked      None      Some\n",
      "Treatment                              \n",
      "Placebo    3.751938  2.616279  0.003876\n",
      "Treated    3.934959  2.743902  0.004065\n"
     ]
    }
   ],
   "source": [
    "rslt = table.test_nominal_association()\n",
    "print (rslt.pvalue)\n",
    "print (table.chi2_contribs) # chi2 values"
   ]
  },
  {
   "cell_type": "code",
   "execution_count": 29,
   "metadata": {},
   "outputs": [
    {
     "name": "stdout",
     "output_type": "stream",
     "text": [
      "0.023644578093923983\n"
     ]
    }
   ],
   "source": [
    "rslt = table.test_ordinal_association()\n",
    "print (rslt.pvalue)"
   ]
  }
 ],
 "metadata": {
  "kernelspec": {
   "display_name": "Python 3",
   "language": "python",
   "name": "python3"
  },
  "language_info": {
   "codemirror_mode": {
    "name": "ipython",
    "version": 3
   },
   "file_extension": ".py",
   "mimetype": "text/x-python",
   "name": "python",
   "nbconvert_exporter": "python",
   "pygments_lexer": "ipython3",
   "version": "3.6.1"
  }
 },
 "nbformat": 4,
 "nbformat_minor": 2
}
