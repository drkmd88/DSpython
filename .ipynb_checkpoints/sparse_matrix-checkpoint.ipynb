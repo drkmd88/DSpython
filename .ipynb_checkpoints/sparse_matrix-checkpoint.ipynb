{
 "cells": [
  {
   "cell_type": "code",
   "execution_count": 3,
   "metadata": {},
   "outputs": [],
   "source": [
    "from scipy.sparse import csr_matrix"
   ]
  },
  {
   "cell_type": "markdown",
   "metadata": {},
   "source": [
    "## Example 1\n",
    "number of row is len(indptr)-1\n",
    "col_index of row[0] is indices[indptr[0]:indptr[1]] => (0,0), (0,1), (0,0) => (0,0) appears twice so result[0][0]=1+1=2\n",
    "col_index of row[1] is indices[indptr[1]:indptr[2]] => (1,2), (1,3), (1,1)\n"
   ]
  },
  {
   "cell_type": "code",
   "execution_count": 8,
   "metadata": {},
   "outputs": [
    {
     "name": "stdout",
     "output_type": "stream",
     "text": [
      "[0]\n",
      "[1]\n",
      "---\n",
      "[0, 1]\n",
      "[1, 1]\n",
      "---\n",
      "[0, 1, 0]\n",
      "[1, 1, 1]\n",
      "---\n",
      "[0, 1, 0, 2]\n",
      "[1, 1, 1, 1]\n",
      "---\n",
      "[0, 1, 0, 2, 3]\n",
      "[1, 1, 1, 1, 1]\n",
      "---\n",
      "[0, 1, 0, 2, 3, 1]\n",
      "[1, 1, 1, 1, 1, 1]\n",
      "---\n",
      "indices is [0, 1, 0, 2, 3, 1]\n",
      "indptr is [0, 3, 6]\n"
     ]
    },
    {
     "data": {
      "text/plain": [
       "array([[2, 1, 0, 0],\n",
       "       [0, 1, 1, 1]])"
      ]
     },
     "execution_count": 8,
     "metadata": {},
     "output_type": "execute_result"
    }
   ],
   "source": [
    "docs = [[\"hello\", \"world\", \"hello\"], [\"goodbye\", \"cruel\", \"world\"]]\n",
    "indptr = [0]\n",
    "indices = []\n",
    "data = []\n",
    "vocabulary = {}\n",
    "for d in docs:\n",
    "    for term in d:\n",
    "        index = vocabulary.setdefault(term, len(vocabulary))\n",
    "        indices.append(index)\n",
    "        data.append(1)\n",
    "        print (indices)\n",
    "        print (data)\n",
    "        print ('---')\n",
    "    indptr.append(len(indices))\n",
    "\n",
    "print (\"indices is {}\".format(indices))\n",
    "print (\"indptr is {}\".format(indptr))\n",
    "csr_matrix((data, indices, indptr), dtype=int).toarray()"
   ]
  },
  {
   "cell_type": "code",
   "execution_count": null,
   "metadata": {
    "collapsed": true
   },
   "outputs": [],
   "source": []
  }
 ],
 "metadata": {
  "kernelspec": {
   "display_name": "Python 3",
   "language": "python",
   "name": "python3"
  },
  "language_info": {
   "codemirror_mode": {
    "name": "ipython",
    "version": 3
   },
   "file_extension": ".py",
   "mimetype": "text/x-python",
   "name": "python",
   "nbconvert_exporter": "python",
   "pygments_lexer": "ipython3",
   "version": "3.6.1"
  }
 },
 "nbformat": 4,
 "nbformat_minor": 2
}
